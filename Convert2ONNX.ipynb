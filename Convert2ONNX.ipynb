{
  "nbformat": 4,
  "nbformat_minor": 0,
  "metadata": {
    "colab": {
      "provenance": []
    },
    "kernelspec": {
      "name": "python3",
      "display_name": "Python 3"
    },
    "language_info": {
      "name": "python"
    }
  },
  "cells": [
    {
      "cell_type": "markdown",
      "source": [
        "# パッケージインストール"
      ],
      "metadata": {
        "id": "qM1Mw4Rs2fwf"
      }
    },
    {
      "cell_type": "code",
      "source": [
        "!pip uninstall -y tensorflow keras"
      ],
      "metadata": {
        "colab": {
          "base_uri": "https://localhost:8080/"
        },
        "id": "zTgNj7pWyYln",
        "outputId": "7998fb05-06d4-458a-909d-d55942743b47"
      },
      "execution_count": 1,
      "outputs": [
        {
          "output_type": "stream",
          "name": "stdout",
          "text": [
            "Found existing installation: tensorflow 2.17.0\n",
            "Uninstalling tensorflow-2.17.0:\n",
            "  Successfully uninstalled tensorflow-2.17.0\n",
            "Found existing installation: keras 3.4.1\n",
            "Uninstalling keras-3.4.1:\n",
            "  Successfully uninstalled keras-3.4.1\n"
          ]
        }
      ]
    },
    {
      "cell_type": "code",
      "source": [
        "!pip install tensorflow==2.15.0 keras==2.15.0\n",
        "!pip install onnx onnxruntime onnxsim tf2onnx"
      ],
      "metadata": {
        "id": "FwYgbL6P0jna"
      },
      "execution_count": null,
      "outputs": []
    },
    {
      "cell_type": "markdown",
      "source": [
        "# 重みダウンロード"
      ],
      "metadata": {
        "id": "ZuHXwckq3pjP"
      }
    },
    {
      "cell_type": "code",
      "execution_count": 3,
      "metadata": {
        "colab": {
          "base_uri": "https://localhost:8080/"
        },
        "id": "jlvjYedHxhSM",
        "outputId": "a6c634cb-35ff-4360-dd92-66d90d56e423"
      },
      "outputs": [
        {
          "output_type": "stream",
          "name": "stdout",
          "text": [
            "--2024-08-16 06:24:01--  https://s3.amazonaws.com/ir_public/ai/nsfw_models/nsfw.299x299.h5\n",
            "Resolving s3.amazonaws.com (s3.amazonaws.com)... 16.182.105.128, 52.217.130.224, 52.217.202.200, ...\n",
            "Connecting to s3.amazonaws.com (s3.amazonaws.com)|16.182.105.128|:443... connected.\n",
            "HTTP request sent, awaiting response... 200 OK\n",
            "Length: 158652512 (151M) [application/x-www-form-urlencoded]\n",
            "Saving to: ‘nsfw_inception_v3_299x299.h5’\n",
            "\n",
            "nsfw_inception_v3_2 100%[===================>] 151.30M  28.9MB/s    in 4.9s    \n",
            "\n",
            "2024-08-16 06:24:06 (31.0 MB/s) - ‘nsfw_inception_v3_299x299.h5’ saved [158652512/158652512]\n",
            "\n",
            "--2024-08-16 06:24:06--  https://s3.amazonaws.com/ir_public/nsfwjscdn/nsfw_mobilenet2.224x224.h5\n",
            "Resolving s3.amazonaws.com (s3.amazonaws.com)... 54.231.234.192, 52.216.211.40, 16.182.72.184, ...\n",
            "Connecting to s3.amazonaws.com (s3.amazonaws.com)|54.231.234.192|:443... connected.\n",
            "HTTP request sent, awaiting response... 200 OK\n",
            "Length: 10956472 (10M) [application/x-www-form-urlencoded]\n",
            "Saving to: ‘nsfw_mobilenet2_224x224.h5’\n",
            "\n",
            "nsfw_mobilenet2_224 100%[===================>]  10.45M  --.-KB/s    in 0.1s    \n",
            "\n",
            "2024-08-16 06:24:06 (73.8 MB/s) - ‘nsfw_mobilenet2_224x224.h5’ saved [10956472/10956472]\n",
            "\n"
          ]
        }
      ],
      "source": [
        "!wget https://s3.amazonaws.com/ir_public/ai/nsfw_models/nsfw.299x299.h5 -O nsfw_inception_v3_299x299.h5\n",
        "!wget https://s3.amazonaws.com/ir_public/nsfwjscdn/nsfw_mobilenet2.224x224.h5 -O nsfw_mobilenet2_224x224.h5"
      ]
    },
    {
      "cell_type": "markdown",
      "source": [
        "# モデル読み込み、SavedModel保存"
      ],
      "metadata": {
        "id": "nqrxtiOp3rjO"
      }
    },
    {
      "cell_type": "code",
      "source": [
        "import tensorflow as tf\n",
        "import tensorflow_hub as hub\n",
        "\n",
        "# モデル読み込み\n",
        "nsfw_inception_v3 = tf.keras.models.load_model(\n",
        "    'nsfw_inception_v3_299x299.h5',\n",
        "    custom_objects={'KerasLayer': hub.KerasLayer},\n",
        "    compile=False\n",
        ")\n",
        "nsfw_mobilenet2 = tf.keras.models.load_model(\n",
        "    'nsfw_mobilenet2_224x224.h5',\n",
        "    custom_objects={'KerasLayer': hub.KerasLayer},\n",
        "    compile=False\n",
        ")\n",
        "\n",
        "# SavedModel形式で保存\n",
        "nsfw_inception_v3.save('nsfw_inception_v3_299x299')\n",
        "nsfw_mobilenet2.save('nsfw_mobilenet2_224x224')"
      ],
      "metadata": {
        "colab": {
          "base_uri": "https://localhost:8080/"
        },
        "id": "XfJo29ROxtEU",
        "outputId": "0b431cbf-1ac4-4571-a7ad-bbf0310406f9"
      },
      "execution_count": 4,
      "outputs": [
        {
          "output_type": "stream",
          "name": "stderr",
          "text": [
            "WARNING:tensorflow:Compiled the loaded model, but the compiled metrics have yet to be built. `model.compile_metrics` will be empty until you train or evaluate the model.\n",
            "WARNING:tensorflow:Compiled the loaded model, but the compiled metrics have yet to be built. `model.compile_metrics` will be empty until you train or evaluate the model.\n"
          ]
        }
      ]
    },
    {
      "cell_type": "markdown",
      "source": [
        "# ONNX変換"
      ],
      "metadata": {
        "id": "d8n-6oZ_3vds"
      }
    },
    {
      "cell_type": "code",
      "source": [
        "!python -m tf2onnx.convert --saved-model nsfw_inception_v3_299x299 --output nsfw_inception_v3_299x299.onnx\n",
        "!onnxsim nsfw_inception_v3_299x299.onnx nsfw_inception_v3_299x299.onnx"
      ],
      "metadata": {
        "colab": {
          "base_uri": "https://localhost:8080/"
        },
        "id": "Pu_h89VoyTc0",
        "outputId": "66e73bca-e7ae-46d9-90a0-22543b2ae9ba"
      },
      "execution_count": 5,
      "outputs": [
        {
          "output_type": "stream",
          "name": "stdout",
          "text": [
            "2024-08-16 06:25:15.942854: E external/local_xla/xla/stream_executor/cuda/cuda_dnn.cc:9261] Unable to register cuDNN factory: Attempting to register factory for plugin cuDNN when one has already been registered\n",
            "2024-08-16 06:25:15.942925: E external/local_xla/xla/stream_executor/cuda/cuda_fft.cc:607] Unable to register cuFFT factory: Attempting to register factory for plugin cuFFT when one has already been registered\n",
            "2024-08-16 06:25:15.944582: E external/local_xla/xla/stream_executor/cuda/cuda_blas.cc:1515] Unable to register cuBLAS factory: Attempting to register factory for plugin cuBLAS when one has already been registered\n",
            "2024-08-16 06:25:17.304481: W tensorflow/compiler/tf2tensorrt/utils/py_utils.cc:38] TF-TRT Warning: Could not find TensorRT\n",
            "/usr/lib/python3.10/runpy.py:126: RuntimeWarning: 'tf2onnx.convert' found in sys.modules after import of package 'tf2onnx', but prior to execution of 'tf2onnx.convert'; this may result in unpredictable behaviour\n",
            "  warn(RuntimeWarning(msg))\n",
            "2024-08-16 06:25:20,281 - WARNING - '--tag' not specified for saved_model. Using --tag serve\n",
            "2024-08-16 06:25:32,455 - INFO - Signatures found in model: [serving_default].\n",
            "2024-08-16 06:25:32,455 - WARNING - '--signature_def' not specified, using first signature: serving_default\n",
            "2024-08-16 06:25:32,456 - INFO - Output names: ['dense_3']\n",
            "2024-08-16 06:25:40,393 - INFO - Using tensorflow=2.15.0, onnx=1.16.2, tf2onnx=1.16.1/15c810\n",
            "2024-08-16 06:25:40,393 - INFO - Using opset <onnx, 15>\n",
            "2024-08-16 06:25:41,046 - INFO - Computed 0 values for constant folding\n",
            "2024-08-16 06:25:42,409 - INFO - Optimizing ONNX model\n",
            "2024-08-16 06:25:46,164 - INFO - After optimization: BatchNormalization -94 (94->0), Cast -1 (1->0), Const -293 (488->195), Identity -2 (2->0), Transpose -403 (404->1)\n",
            "2024-08-16 06:25:46,286 - INFO - \n",
            "2024-08-16 06:25:46,286 - INFO - Successfully converted TensorFlow model nsfw_inception_v3_299x299 to ONNX\n",
            "2024-08-16 06:25:46,286 - INFO - Model inputs: ['input_1']\n",
            "2024-08-16 06:25:46,286 - INFO - Model outputs: ['dense_3']\n",
            "2024-08-16 06:25:46,286 - INFO - ONNX model is saved at nsfw_inception_v3_299x299.onnx\n",
            "Simplifying\u001b[33m...\u001b[0m\n",
            "Finish! Here is the difference:\n",
            "┏━━━━━━━━━━━━━┳━━━━━━━━━━━━━━━━┳━━━━━━━━━━━━━━━━━━┓\n",
            "┃\u001b[1m \u001b[0m\u001b[1m           \u001b[0m\u001b[1m \u001b[0m┃\u001b[1m \u001b[0m\u001b[1mOriginal Model\u001b[0m\u001b[1m \u001b[0m┃\u001b[1m \u001b[0m\u001b[1mSimplified Model\u001b[0m\u001b[1m \u001b[0m┃\n",
            "┡━━━━━━━━━━━━━╇━━━━━━━━━━━━━━━━╇━━━━━━━━━━━━━━━━━━┩\n",
            "│ Add         │ 3              │ 3                │\n",
            "│ AveragePool │ 10             │ 10               │\n",
            "│ Concat      │ 11             │ 11               │\n",
            "│ Constant    │ 195            │ 195              │\n",
            "│ Conv        │ 94             │ 94               │\n",
            "│ MatMul      │ 3              │ 3                │\n",
            "│ MaxPool     │ 4              │ 4                │\n",
            "│ Relu        │ 96             │ 96               │\n",
            "│ Reshape     │ 1              │ 1                │\n",
            "│ Softmax     │ 1              │ 1                │\n",
            "│ Transpose   │ 1              │ 1                │\n",
            "│ Model Size  │ 85.2MiB        │ 85.3MiB          │\n",
            "└─────────────┴────────────────┴──────────────────┘\n"
          ]
        }
      ]
    },
    {
      "cell_type": "code",
      "source": [
        "!python -m tf2onnx.convert --saved-model nsfw_mobilenet2_224x224 --output nsfw_mobilenet2_224x224.onnx\n",
        "!onnxsim nsfw_mobilenet2_224x224.onnx nsfw_mobilenet2_224x224.onnx"
      ],
      "metadata": {
        "colab": {
          "base_uri": "https://localhost:8080/"
        },
        "id": "93KITVie0usk",
        "outputId": "7d0eb724-021d-42b9-e787-14f364d8529d"
      },
      "execution_count": 6,
      "outputs": [
        {
          "output_type": "stream",
          "name": "stdout",
          "text": [
            "2024-08-16 06:25:51.807262: E external/local_xla/xla/stream_executor/cuda/cuda_dnn.cc:9261] Unable to register cuDNN factory: Attempting to register factory for plugin cuDNN when one has already been registered\n",
            "2024-08-16 06:25:51.807329: E external/local_xla/xla/stream_executor/cuda/cuda_fft.cc:607] Unable to register cuFFT factory: Attempting to register factory for plugin cuFFT when one has already been registered\n",
            "2024-08-16 06:25:51.808815: E external/local_xla/xla/stream_executor/cuda/cuda_blas.cc:1515] Unable to register cuBLAS factory: Attempting to register factory for plugin cuBLAS when one has already been registered\n",
            "2024-08-16 06:25:53.193121: W tensorflow/compiler/tf2tensorrt/utils/py_utils.cc:38] TF-TRT Warning: Could not find TensorRT\n",
            "/usr/lib/python3.10/runpy.py:126: RuntimeWarning: 'tf2onnx.convert' found in sys.modules after import of package 'tf2onnx', but prior to execution of 'tf2onnx.convert'; this may result in unpredictable behaviour\n",
            "  warn(RuntimeWarning(msg))\n",
            "2024-08-16 06:25:55,332 - WARNING - '--tag' not specified for saved_model. Using --tag serve\n",
            "2024-08-16 06:26:00,774 - INFO - Signatures found in model: [serving_default].\n",
            "2024-08-16 06:26:00,774 - WARNING - '--signature_def' not specified, using first signature: serving_default\n",
            "2024-08-16 06:26:00,775 - INFO - Output names: ['dense_3']\n",
            "2024-08-16 06:26:03,129 - INFO - Using tensorflow=2.15.0, onnx=1.16.2, tf2onnx=1.16.1/15c810\n",
            "2024-08-16 06:26:03,129 - INFO - Using opset <onnx, 15>\n",
            "2024-08-16 06:26:03,427 - INFO - Computed 0 values for constant folding\n",
            "2024-08-16 06:26:04,222 - INFO - Optimizing ONNX model\n",
            "2024-08-16 06:26:06,661 - INFO - After optimization: BatchNormalization -52 (52->0), Cast -1 (1->0), Const -248 (362->114), Identity -2 (2->0), Reshape -17 (18->1), Transpose -226 (227->1)\n",
            "2024-08-16 06:26:06,686 - INFO - \n",
            "2024-08-16 06:26:06,686 - INFO - Successfully converted TensorFlow model nsfw_mobilenet2_224x224 to ONNX\n",
            "2024-08-16 06:26:06,686 - INFO - Model inputs: ['input_1']\n",
            "2024-08-16 06:26:06,686 - INFO - Model outputs: ['dense_3']\n",
            "2024-08-16 06:26:06,686 - INFO - ONNX model is saved at nsfw_mobilenet2_224x224.onnx\n",
            "Simplifying\u001b[33m...\u001b[0m\n",
            "Finish! Here is the difference:\n",
            "┏━━━━━━━━━━━━━┳━━━━━━━━━━━━━━━━┳━━━━━━━━━━━━━━━━━━┓\n",
            "┃\u001b[1m \u001b[0m\u001b[1m           \u001b[0m\u001b[1m \u001b[0m┃\u001b[1m \u001b[0m\u001b[1mOriginal Model\u001b[0m\u001b[1m \u001b[0m┃\u001b[1m \u001b[0m\u001b[1mSimplified Model\u001b[0m\u001b[1m \u001b[0m┃\n",
            "┡━━━━━━━━━━━━━╇━━━━━━━━━━━━━━━━╇━━━━━━━━━━━━━━━━━━┩\n",
            "│ Add         │ 13             │ 13               │\n",
            "│ AveragePool │ 1              │ 1                │\n",
            "│ Clip        │ 35             │ 35               │\n",
            "│ Constant    │ 114            │ \u001b[1;32m113             \u001b[0m │\n",
            "│ Conv        │ 52             │ 52               │\n",
            "│ MatMul      │ 3              │ 3                │\n",
            "│ Pad         │ 4              │ \u001b[1;32m0               \u001b[0m │\n",
            "│ Relu        │ 2              │ 2                │\n",
            "│ Reshape     │ 1              │ 1                │\n",
            "│ Softmax     │ 1              │ 1                │\n",
            "│ Transpose   │ 1              │ 1                │\n",
            "│ Model Size  │ 9.8MiB         │ 9.9MiB           │\n",
            "└─────────────┴────────────────┴──────────────────┘\n"
          ]
        }
      ]
    }
  ]
}